{
 "nbformat": 4,
  "nbformat_minor": 0,
  "metadata": {
    "colab": {
      "name": "Vehicle-Recognition-MobileNet-Finetune.ipynb",
      "version": "0.3.2",
      "provenance": [],
      "toc_visible": true
    },
    "kernelspec": {
      "name": "python3",
      "display_name": "Python 3"
    },
    "accelerator": "GPU"
  },
 "cells": [
  {
   "cell_type": "markdown",
   "metadata": {
    "colab_type": "text",
    "id": "5m9flLdyM4-u"
   },
   "source": [
    "## Introduction\n",
    "This is a demonstration notebook of training a deep architecture ([MobileNet V1](https://arxiv.org/abs/1704.04861)) on an unsupervised image dataset of vehicle models from a marketing site. This dataset was analysed in depth during my previous work of [*Transfer learning approach for classification and noise reduction on noisy web data*](https://www.sciencedirect.com/science/article/pii/S0957417418301878?via%3Dihub)\". In this notebook, the architecture is trained on the entire noisy dataset with two learning strategies. In the first one, the network is thorouly trained and fine-tuned on the dataset, and in the second approach, the network is used as a feature extractor and the features are classified using a linear support vector classifier."
   ]
  },
  {
   "cell_type": "markdown",
   "metadata": {
    "colab_type": "text",
    "id": "W2R347SWrrqS"
   },
   "source": [
    "## Dataset preparation phase\n",
    "### Prepare to download the dataset (from Megaupload)\n",
    "\n",
    "The provided dataset is available at Megaupload server, hence an auxilary tool, called 'Megatools' is required to download this dataset. The following commands attempt to download and extract the latest version of this program."
   ]
  },
  {
   "cell_type": "code",
   "execution_count": 0,
   "metadata": {
    "colab": {},
    "colab_type": "code",
    "id": "UBExk1ndnJUi"
   },
   "outputs": [],
   "source": [
    "!mkdir tools -p\n",
    "!wget -c \"https://megatools.megous.com/builds/experimental/megatools-1.11.0-git-20180814-linux-x86_64.tar.gz\" -O \"tools/megatools.tar.gz\"\n",
    "!tar xfz \"tools/megatools.tar.gz\" --directory \"tools/\"\n",
    "!mv \"tools/megatools-1.11.0-git-20180814-linux-x86_64/\" \"tools/megatools\""
   ]
  },
  {
   "cell_type": "markdown",
   "metadata": {
    "colab_type": "text",
    "id": "83-Bii_ptfX1"
   },
   "source": [
    "### Download the dataset\n",
    "The following commands will download and extract the dataset."
   ]
  },
  {
   "cell_type": "code",
   "execution_count": 0,
   "metadata": {
    "colab": {},
    "colab_type": "code",
    "id": "bUc6BVvyD3ea"
   },
   "outputs": [],
   "source": [
    "!mkdir download -p\n",
    "!mkdir datasets -p\n",
    "!mkdir \"datasets/clean_dataset/\" -p\n",
    "!mkdir \"datasets/main_dataset/\" -p\n",
    "!./tools/megatools/megatools dl \"https://mega.nz/#F!RDZRyIAC!eX1au64E9TGw07BqEOeVLQ\" --path='download/'\n",
    "!tar xf \"download/clean_dataset.tar\" --directory \"datasets/clean_dataset/\"\n",
    "!tar xf \"download/main_dataset.tar\" --directory \"datasets/main_dataset/\"\n"
   ]
  },
  {
   "cell_type": "markdown",
   "metadata": {
    "colab_type": "text",
    "id": "OzCrZ2gGmcJE"
   },
   "source": [
    "### Delete the images that are not required\n",
    "As the entire noisy images are stored in a single archive, the unwanted files should be erased.\n",
    "\n",
    "\n"
   ]
  },
  {
   "cell_type": "code",
   "execution_count": 0,
   "metadata": {
    "colab": {},
    "colab_type": "code",
    "id": "cgZ5WaA5tXfA"
   },
   "outputs": [],
   "source": [
    "!for name in $(cat datasets/main_dataset/labels/test/all.txt) ; do  if [[ ${#name}>2 ]]; then  rm \"$name\" -f ; fi ; done"
   ]
  },
  {
   "cell_type": "markdown",
   "metadata": {
    "colab_type": "text",
    "id": "YNb2T1K_VZrN"
   },
   "source": [
    "## Dataset preparation phase (using Google drive)\n",
    "###Copy the dataset from Google Drive path\n",
    "If you are using Colab, you can download the dataset into your google drive and use it by running the following commands."
   ]
  },
  {
   "cell_type": "code",
   "execution_count": 0,
   "metadata": {
    "colab": {},
    "colab_type": "code",
    "id": "ZB6vwWjIWEcl"
   },
   "outputs": [],
   "source": [
    "# import google drive library\n",
    "from google.colab import drive\n",
    "drive.mount('/content/gdrive')\n",
    "\n",
    "!mkdir download -p\n",
    "!mkdir datasets -p\n",
    "!mkdir \"datasets/clean_dataset/\" -p\n",
    "!mkdir \"datasets/main_dataset/\" -p\n",
    "!cp \"/content/gdrive/My Drive/Datasets/clean_dataset.tar\" /content/download/clean_dataset.tar\n",
    "!cp \"/content/gdrive/My Drive/Datasets/main_dataset.tar\" /content/download/main_dataset.tar\n",
    "!tar xf \"download/clean_dataset.tar\" --directory \"datasets/clean_dataset/\"\n",
    "!tar xf \"download/main_dataset.tar\" --directory \"datasets/main_dataset/\""
   ]
  },
  {
   "cell_type": "markdown",
   "metadata": {
    "colab_type": "text",
    "id": "vGqTj9992_rQ"
   },
   "source": [
    "## Prepare the python code\n",
    "\n",
    "### Import the required modules and libraries\n",
    "The demanding libraries, including tensorflow, and matplotlib are being imported here."
   ]
  },
  {
   "cell_type": "code",
   "execution_count": 0,
   "metadata": {
    "colab": {},
    "colab_type": "code",
    "id": "Rfp25WRSfcSt"
   },
   "outputs": [],
   "source": [
    "import tensorflow as tf\n",
    "import numpy as np\n",
    "import matplotlib\n",
    "import matplotlib.pyplot as plt\n",
    "import matplotlib.gridspec as gridspec\n",
    "from IPython.display import display, clear_output\n",
    "import time\n",
    "import os\n",
    "import multiprocessing\n",
    "%matplotlib inline\n",
    "\n",
    "# print tensorflow version and GPU device name (if there is one available)\n",
    "print(\"TensorFlow version is \", tf.__version__)\n",
    "print(\"GPU device name: \", tf.test.gpu_device_name())\n",
    "print(\"Available CPUs: \", multiprocessing.cpu_count())"
   ]
  },
  {
   "cell_type": "markdown",
   "metadata": {
    "colab_type": "text",
    "id": "R8Nksuel4fZB"
   },
   "source": [
    "### Define the parameters\n",
    "\n",
    "The first version of MobileNet being compatible with Tensorflow.js is used here, and the rest of the parameters and hyper-parameters are defined here.\n",
    "\n"
   ]
  },
  {
   "cell_type": "code",
   "execution_count": 0,
   "metadata": {
    "colab": {},
    "colab_type": "code",
    "id": "sjjq-9LgGyQX"
   },
   "outputs": [],
   "source": [
    "# Network definitions\n",
    "input_size = 224 \n",
    "\n",
    "# Dataset definitions\n",
    "train_path = 'datasets/main_dataset/images/'\n",
    "val_path = 'datasets/clean_dataset/images/'\n",
    "class_count = 9 \n",
    "rescale_factor = 1./255\n",
    "\n",
    "# Checkpoint parameters\n",
    "checkpoint_path = \"training_cp/cp-{epoch:04d}.ckpt\"\n",
    "checkpoint_save_period = 2\n",
    "checkpoint_save_weights = True \n",
    "model_name = \"mobilenet_vr_ft.h5\"\n",
    "figure_name = \"mobilenet_vr_ft.svg\"\n",
    "history_name = \"history_vr_ft.txt\"\n",
    "\n",
    "# Training parameters\n",
    "learning_rate = 0.001\n",
    "lr_decay = 1e-5\n",
    "lr_momentum = 0.9\n",
    "epoch_count = 30\n",
    "train_batch_size = 128\n",
    "val_batch_size = 128\n",
    "update_on_batch = 16\n",
    "fine_tune = True\n"
   ]
  },
  {
   "cell_type": "markdown",
   "metadata": {
    "colab_type": "text",
    "id": "-DBIHebq7oM2"
   },
   "source": [
    "### Create dataset generators"
   ]
  },
  {
   "cell_type": "markdown",
   "metadata": {
    "colab_type": "text",
    "id": "wmbYbl0VQJ6n"
   },
   "source": [
    "The ImageDataGenerator is used for the ease of dealing with the dataset."
   ]
  },
  {
   "cell_type": "code",
   "execution_count": 0,
   "metadata": {
    "colab": {},
    "colab_type": "code",
    "id": "39woasis6vQH"
   },
   "outputs": [],
   "source": [
    "# Create training generator\n",
    "train_datagen = tf.keras.preprocessing.image.ImageDataGenerator(rescale=rescale_factor)\n",
    "\n",
    "train_generator = train_datagen.flow_from_directory(\n",
    "                train_path,  \n",
    "                target_size=(input_size, input_size),  \n",
    "                batch_size=train_batch_size,             \n",
    "                class_mode='categorical')\n",
    "\n",
    "\n",
    "# Create validation generator\n",
    "val_datagen = tf.keras.preprocessing.image.ImageDataGenerator(rescale=rescale_factor)\n",
    "\n",
    "val_generator = val_datagen.flow_from_directory(\n",
    "                val_path,\n",
    "                target_size=(input_size, input_size),\n",
    "                batch_size=val_batch_size,\n",
    "                class_mode='categorical')\n"
   ]
  },
  {
   "cell_type": "markdown",
   "metadata": {
    "colab_type": "text",
    "id": "WLxa2ky48zdU"
   },
   "source": [
    "### Define the Network\n",
    "The MobileNet architecture is defined here, and the Stochastic Gradient Descent is used."
   ]
  },
  {
   "cell_type": "code",
   "execution_count": 0,
   "metadata": {
    "colab": {},
    "colab_type": "code",
    "id": "0JQc0PKQHQMI"
   },
   "outputs": [],
   "source": [
    "# Create the base model from the pre-trained model MobileNet\n",
    "base_model = tf.keras.applications.MobileNet(input_shape=(input_size, input_size, 3),\n",
    "                                               include_top=False, \n",
    "                                               weights='imagenet')\n",
    "# Fine-tune the base model\n",
    "base_model.trainable = fine_tune\n",
    "\n",
    "# create the final model by stacking an average pooling layer together with a softmax fully connected layer \n",
    "model = tf.keras.Sequential([\n",
    "  base_model,\n",
    "  tf.keras.layers.GlobalAveragePooling2D(),\n",
    "  tf.keras.layers.Dense(class_count, activation=tf.keras.activations.softmax)\n",
    "])\n",
    "\n",
    "# use Stochastic Gradient Descent as the optimizer\n",
    "model.compile(optimizer=tf.keras.optimizers.SGD(lr=learning_rate, decay=lr_decay, momentum=lr_momentum),\n",
    "                loss=tf.keras.losses.categorical_crossentropy,\n",
    "                metrics=['accuracy'])\n"
   ]
  },
  {
   "cell_type": "markdown",
   "metadata": {
    "colab_type": "text",
    "id": "SoMBBf1u8yTZ"
   },
   "source": [
    "### Define the callbacks\n",
    "Two callbacks are defined here. The first one is for saving the model weights, and the second one is used to plot the results of the training process in real-time."
   ]
  },
  {
   "cell_type": "code",
   "execution_count": 0,
   "metadata": {
    "colab": {},
    "colab_type": "code",
    "id": "bVa3XPQOHVvn"
   },
   "outputs": [],
   "source": [
    "# Create the checkpoint callback\n",
    "checkpoint_dir = os.path.dirname(checkpoint_path)\n",
    "\n",
    "cp_callback = tf.keras.callbacks.ModelCheckpoint(\n",
    "    checkpoint_path, save_weights_only=checkpoint_save_weights,\n",
    "    period=checkpoint_save_period)\n",
    "  \n",
    "  \n",
    "# Create the plotting callback\n",
    "class plotCallback(tf.keras.callbacks.Callback):\n",
    "    def __init__(self,steps_per_epoch):\n",
    "        # parameters use to calculate the x-axis steps      \n",
    "        self.steps_per_epoch = steps_per_epoch\n",
    "        self.current_epoch = 0\n",
    "        # accuracy and loss arrays\n",
    "        self.train_loss=[]\n",
    "        self.train_acc=[]\n",
    "        self.val_loss=[]\n",
    "        self.val_acc=[]\n",
    "        # x-axis steps\n",
    "        self.x_axis_train=[0]\n",
    "        self.x_axis_val=[0]\n",
    "        # inital values\n",
    "        self.init_train=[0,0]\n",
    "        self.init_val=[0,0]\n",
    "    \n",
    "    def set_init_values(self,train,val):\n",
    "        # set initial train and test values [loss,accuracy]\n",
    "        self.init_train = train\n",
    "        self.init_val = val\n",
    "        \n",
    "    def init_plot_env(self):\n",
    "        # setup plotting environment\n",
    "        self.fig = plt.figure(figsize=(12, 9))\n",
    "        \n",
    "        # setup grid space\n",
    "        gs1 = gridspec.GridSpec(2, 1)\n",
    "        gs1.update(wspace=0.1, hspace=0.5)\n",
    "        \n",
    "        # create subplots\n",
    "        self.loss_plt = self.fig.add_subplot(gs1[0,:])\n",
    "        self.acc_plt = self.fig.add_subplot(gs1[1,:])\n",
    "          \n",
    "    def init(self):\n",
    "        #init plotting env\n",
    "        self.init_plot_env()\n",
    "        # set initial values\n",
    "        self.train_loss.append(self.init_train[0])\n",
    "        self.train_acc.append(self.init_train[1])\n",
    "        self.val_loss.append(self.init_val[0])\n",
    "        self.val_acc.append(self.init_val[1])\n",
    "                   \n",
    "    def plot_diagrams(self):     \n",
    "        # plot loss diagram\n",
    "        self.loss_plt.clear()\n",
    "        self.loss_plt.grid(linestyle='--') \n",
    "        self.loss_plt.plot(self.x_axis_train,self.train_loss,c='b',linewidth=1,linestyle='--',label='Training')\n",
    "        self.loss_plt.plot(self.x_axis_val,self.val_loss,c='r',linewidth=1,label='Validation')\n",
    "        self.loss_plt.legend(['Training','Validation'])\n",
    "        self.loss_plt.set_xlabel('Epoch')\n",
    "        self.loss_plt.set_ylabel('Loss')\n",
    "        self.loss_plt.set_title('Cross Entropy Loss')\n",
    "        \n",
    "        # plot accuracy diagram\n",
    "        self.acc_plt.clear()\n",
    "        self.acc_plt.grid(linestyle='--') \n",
    "        self.acc_plt.plot(self.x_axis_train,self.train_acc,c='black',linewidth=1,linestyle='--',label='Training')\n",
    "        self.acc_plt.plot(self.x_axis_val,self.val_acc,c='g',linewidth=1,label='Validation')\n",
    "        self.acc_plt.legend(['Training','Validation'])\n",
    "        self.acc_plt.set_xlabel('Epoch')\n",
    "        self.acc_plt.set_ylabel('Accuracy')\n",
    "        self.acc_plt.set_title('Accuracy')\n",
    "        \n",
    "        # draw the frame\n",
    "        clear_output(wait = True)    \n",
    "        display(plt.gcf())\n",
    "        time.sleep(0.1)\n",
    "          \n",
    "    def on_epoch_end(self,epoch,logs={}):\n",
    "        # get the validation loss and accuracy\n",
    "        val_loss = logs.get('val_loss')\n",
    "        val_acc = logs.get('val_acc') \n",
    "        \n",
    "        # update relevant arrays\n",
    "        self.val_loss.append(val_loss)\n",
    "        self.val_acc.append(val_acc)\n",
    "        self.x_axis_val.append(self.current_epoch+1)\n",
    "                \n",
    "        # update current epoch number\n",
    "        self.current_epoch +=1;\n",
    "        \n",
    "        # plot the digrams\n",
    "        self.plot_diagrams()\n",
    "       \n",
    "    def on_batch_end(self,batch,logs={}):  \n",
    "        # skip if it is not the time to update the training diagrams\n",
    "        if (batch+1)%update_on_batch!=0:\n",
    "          return\n",
    "        \n",
    "        # calculate the training batch x-axis step\n",
    "        temp_step = float(batch+1)/self.steps_per_epoch + self.current_epoch         \n",
    "       \n",
    "        # get the training loss and accuracy\n",
    "        train_loss = logs.get('loss')\n",
    "        train_acc = logs.get('acc') \n",
    "        \n",
    "        # update the relevant arrays\n",
    "        self.train_loss.append(train_loss)\n",
    "        self.train_acc.append(train_acc)       \n",
    "        self.x_axis_train.append(temp_step)\n",
    "\n",
    "        # plot the diagram\n",
    "        self.plot_diagrams()\n",
    "        \n",
    "        "
   ]
  },
  {
   "cell_type": "markdown",
   "metadata": {
    "colab_type": "text",
    "id": "va3fKIJV5cc0"
   },
   "source": [
    "## Training phase\n",
    "### Train the entire network\n",
    "The network is trained and the results are stored."
   ]
  },
  {
   "cell_type": "code",
   "execution_count": 0,
   "metadata": {
    "colab": {},
    "colab_type": "code",
    "id": "GzQn9q_hI7wq"
   },
   "outputs": [
    {
     "data": {
      "image/png": "[encoded data removed]",
      "text/plain": [
       "<Figure size 864x648 with 2 Axes>"
      ]
     },
     "metadata": {
      "tags": []
     },
     "output_type": "display_data"
    }
   ],
   "source": [
    "# define the valid steps for each epoch \n",
    "steps_per_epoch = train_generator.n // train_batch_size\n",
    "val_steps = val_generator.n //  val_batch_size\n",
    "\n",
    "# init plotting callback\n",
    "plot_callback = plotCallback(steps_per_epoch)\n",
    "\n",
    "# get the initial values\n",
    "#init_train = model.evaluate_generator(train_generator,steps=2,verbose=1)\n",
    "first_batch=train_generator.next()\n",
    "init_train = model.evaluate(first_batch[0],first_batch[1])\n",
    "\n",
    "\n",
    "init_val = model.evaluate_generator(val_generator,steps=val_steps,verbose=1)\n",
    "plot_callback.set_init_values(init_train,init_val)\n",
    "plot_callback.init()\n",
    "# reset the training generator\n",
    "train_generator.reset()\n",
    "\n",
    "# start the training process\n",
    "history = model.fit_generator(train_generator, \n",
    "                              steps_per_epoch = steps_per_epoch,\n",
    "                              epochs=epoch_count,callbacks=[plot_callback,cp_callback],\n",
    "                              validation_data=val_generator, \n",
    "                              validation_steps=val_steps,\n",
    "                              workers=2,\n",
    "                              use_multiprocessing=True)\n",
    "                              \n",
    "# save the model\n",
    "model.save(model_name)\n",
    "\n",
    "# save the history\n",
    "file = open(history_name,'w')\n",
    "file.write(str(history.history))\n",
    "file.close()\n",
    "\n",
    "# save the plot\n",
    "plot_callback.fig.savefig(figure_name)"
   ]
  },
  {
   "cell_type": "markdown",
   "metadata": {
    "colab_type": "text",
    "id": "4MCpQ8yDgGoC"
   },
   "source": [
    "### Show the final results"
   ]
  },
  {
   "cell_type": "code",
   "execution_count": 0,
   "metadata": {
    "colab": {
     "base_uri": "https://localhost:8080/",
     "height": 52
    },
    "colab_type": "code",
    "id": "BSRqeN5Vc5lA",
    "outputId": "2d0b6ec5-e567-4e05-cc53-5927eb7f3127"
   },
   "outputs": [
    {
     "name": "stdout",
     "output_type": "stream",
     "text": [
      "Validation accuracy:  0.98777777\n",
      "Validation loss:  0.03761264322325587\n"
     ]
    }
   ],
   "source": [
    "# get the validation accuracy and loss of the last epoch \n",
    "val_acc = history.history['val_acc'][-1]\n",
    "val_loss = history.history['val_loss'][-1]\n",
    "\n",
    "# show the results\n",
    "print(\"Validation accuracy: \",val_acc)\n",
    "print(\"Validation loss: \",val_loss)\n"
   ]
  }
 ],
 "metadata": {
  "accelerator": "GPU",
  "colab": {
   "collapsed_sections": [
    "W2R347SWrrqS"
   ],
   "name": "VechicleRecognition-Dataset-MobileNet-Finetune.ipynb",
   "provenance": [],
   "toc_visible": true,
   "version": "0.3.2"
  },
  "kernelspec": {
   "display_name": "Python 2",
   "language": "python",
   "name": "python2"
  },
  "language_info": {
   "codemirror_mode": {
    "name": "ipython",
    "version": 2
   },
   "file_extension": ".py",
   "mimetype": "text/x-python",
   "name": "python",
   "nbconvert_exporter": "python",
   "pygments_lexer": "ipython2",
   "version": "2.7.15rc1"
  }
 },
 "nbformat": 4,
 "nbformat_minor": 1
}
